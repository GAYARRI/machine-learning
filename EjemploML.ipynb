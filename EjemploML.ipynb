{
  "cells": [
    {
      "cell_type": "markdown",
      "metadata": {
        "id": "view-in-github",
        "colab_type": "text"
      },
      "source": [
        "<a href=\"https://colab.research.google.com/github/GAYARRI/machine-learning/blob/master/EjemploML.ipynb\" target=\"_parent\"><img src=\"https://colab.research.google.com/assets/colab-badge.svg\" alt=\"Open In Colab\"/></a>"
      ]
    },
    {
      "cell_type": "markdown",
      "id": "516b3507",
      "metadata": {
        "id": "516b3507"
      },
      "source": [
        "### herramientas utilizables"
      ]
    },
    {
      "cell_type": "code",
      "execution_count": null,
      "id": "cd8e24ae",
      "metadata": {
        "id": "cd8e24ae"
      },
      "outputs": [],
      "source": [
        "import xgboost as xgb\n",
        "from sklearn.ensemble import RandomForestClassifier\n",
        "import pandas as pd\n",
        "import csv\n",
        "import numpy as np\n",
        "from sklearn.metrics import mean_squared_error\n",
        "from sklearn.model_selection import train_test_split\n",
        "import matplotlib.pyplot as plt\n",
        "from sklearn.metrics import confusion_matrix\n",
        "from sklearn.metrics import classification_report\n",
        "from sklearn.metrics import accuracy_score\n",
        "from sklearn.metrics import recall_score\n",
        "from sklearn.model_selection import cross_val_score\n",
        "from xgboost import plot_importance\n",
        "import seaborn as sns\n",
        "from sklearn.model_selection import KFold\n",
        "from sklearn.model_selection import cross_val_score\n",
        "from numpy import mean\n",
        "from numpy import absolute\n",
        "import pandas as pd\n",
        "from sklearn.model_selection import train_test_split\n",
        "from numpy import sqrt\n",
        "from scipy import stats"
      ]
    },
    {
      "cell_type": "markdown",
      "id": "0e64d87c",
      "metadata": {
        "id": "0e64d87c"
      },
      "source": [
        "# A.-importamos los datos suministrados a un data frame"
      ]
    },
    {
      "cell_type": "code",
      "execution_count": null,
      "id": "0373f3bf",
      "metadata": {
        "id": "0373f3bf"
      },
      "outputs": [],
      "source": [
        "new=pd.read_csv('prueba.csv')"
      ]
    },
    {
      "cell_type": "code",
      "source": [
        "from google.colab import drive\n",
        "drive.mount('/content/drive')"
      ],
      "metadata": {
        "colab": {
          "base_uri": "https://localhost:8080/"
        },
        "id": "2I5dw3Q1giGs",
        "outputId": "def89c61-fe66-4e74-fe12-1e1af9275afe"
      },
      "id": "2I5dw3Q1giGs",
      "execution_count": null,
      "outputs": [
        {
          "output_type": "stream",
          "name": "stdout",
          "text": [
            "Mounted at /content/drive\n"
          ]
        }
      ]
    },
    {
      "cell_type": "markdown",
      "id": "e33e72da",
      "metadata": {
        "id": "e33e72da"
      },
      "source": [
        "# B.- data frame inicial que se someterá a proceso"
      ]
    },
    {
      "cell_type": "code",
      "execution_count": null,
      "id": "d682419f",
      "metadata": {
        "colab": {
          "base_uri": "https://localhost:8080/",
          "height": 444
        },
        "id": "d682419f",
        "outputId": "3d926239-a2bf-4788-c89b-32acd02a3d75"
      },
      "outputs": [
        {
          "output_type": "execute_result",
          "data": {
            "text/plain": [
              "        var_1     var_2     var_3     var_4     var_5     var_6     var_7  \\\n",
              "0   -1.075456 -0.195745  0.072928 -0.910273 -1.058332 -0.204135  0.014860   \n",
              "1   -2.396112 -0.453724 -0.833710  0.058765  1.155650  0.459741  0.598471   \n",
              "2    1.845949 -1.460644  0.140147 -1.228809  1.088438 -1.993979  0.143315   \n",
              "3    2.143414  0.101328  1.057411 -1.257740 -0.208287  0.574069 -0.747514   \n",
              "4   -0.649597  1.017041 -0.588267  0.470996  0.185584 -0.197885  0.740186   \n",
              "..        ...       ...       ...       ...       ...       ...       ...   \n",
              "495 -1.101524  0.649155  1.112075 -0.884845 -0.791289  0.511408 -0.980752   \n",
              "496 -0.733571 -0.704296 -1.197733  0.822181 -0.131053 -0.367624 -0.125316   \n",
              "497 -2.404217 -0.052258  1.072017 -1.049814 -1.276265 -1.430422  1.143976   \n",
              "498  2.306662 -0.855991 -0.920294  0.802855  1.224822  0.323100 -1.065003   \n",
              "499  0.389991  0.429168  1.854429 -0.871039  2.577581 -1.903671  0.092221   \n",
              "\n",
              "        var_8     var_9    var_10  ...    var_92    var_93    var_94  \\\n",
              "0   -0.245065  1.803615 -2.399954  ... -0.224292 -0.117769 -0.260683   \n",
              "1   -0.378185  2.473345 -0.643875  ...  0.058764  0.343075  0.395617   \n",
              "2   -1.696866  0.585152 -1.467743  ...  0.552813  1.264767 -0.075427   \n",
              "3    0.475646  1.351055 -0.481845  ...  1.041197 -2.248246 -0.047734   \n",
              "4   -0.865915 -1.130410  0.276091  ...  1.154294  1.114312  0.884434   \n",
              "..        ...       ...       ...  ...       ...       ...       ...   \n",
              "495  0.587925  1.896893 -0.084442  ...  3.063000 -1.886854  1.097440   \n",
              "496 -0.248815 -0.431828 -1.207942  ... -0.384192 -0.955502  1.485047   \n",
              "497  1.186624  2.066890  1.284893  ...  0.531253 -0.638983  0.933560   \n",
              "498  0.081209 -0.417770 -0.455096  ... -0.985940  0.714621 -0.141677   \n",
              "499  0.776232  0.046955 -0.443578  ... -1.822369  0.689464 -0.055111   \n",
              "\n",
              "       var_95    var_96    var_97    var_98    var_99   var_100  target  \n",
              "0   -0.221259 -0.336948  2.681420 -1.360773  0.313471 -0.991100       1  \n",
              "1   -0.121909 -0.103370 -2.025381  0.105647  1.029478  0.059214       1  \n",
              "2    0.539285 -0.046292 -0.382775 -0.607253 -0.873099 -2.888416       1  \n",
              "3   -0.042680 -0.729423  0.085604  1.622527 -0.944575  0.403569       1  \n",
              "4    0.880845  0.249226 -0.958378  1.926181 -0.429287  0.153101       1  \n",
              "..        ...       ...       ...       ...       ...       ...     ...  \n",
              "495 -0.024955  0.303770  0.591723  1.160397  0.284106 -0.583183       0  \n",
              "496  2.312382  1.124695  1.040423  1.287920 -0.982925 -1.212301       0  \n",
              "497 -0.954446  1.861105  1.512859  1.290044 -0.537628  0.427043       0  \n",
              "498  1.201229 -0.502932  1.774207 -0.260103 -0.899428 -0.517996       0  \n",
              "499  0.853872  1.513155 -0.203175  0.072275  0.358739 -0.992319       0  \n",
              "\n",
              "[500 rows x 101 columns]"
            ],
            "text/html": [
              "\n",
              "  <div id=\"df-71bc3ba8-5888-48a7-ab2c-d9331b59d0f1\" class=\"colab-df-container\">\n",
              "    <div>\n",
              "<style scoped>\n",
              "    .dataframe tbody tr th:only-of-type {\n",
              "        vertical-align: middle;\n",
              "    }\n",
              "\n",
              "    .dataframe tbody tr th {\n",
              "        vertical-align: top;\n",
              "    }\n",
              "\n",
              "    .dataframe thead th {\n",
              "        text-align: right;\n",
              "    }\n",
              "</style>\n",
              "<table border=\"1\" class=\"dataframe\">\n",
              "  <thead>\n",
              "    <tr style=\"text-align: right;\">\n",
              "      <th></th>\n",
              "      <th>var_1</th>\n",
              "      <th>var_2</th>\n",
              "      <th>var_3</th>\n",
              "      <th>var_4</th>\n",
              "      <th>var_5</th>\n",
              "      <th>var_6</th>\n",
              "      <th>var_7</th>\n",
              "      <th>var_8</th>\n",
              "      <th>var_9</th>\n",
              "      <th>var_10</th>\n",
              "      <th>...</th>\n",
              "      <th>var_92</th>\n",
              "      <th>var_93</th>\n",
              "      <th>var_94</th>\n",
              "      <th>var_95</th>\n",
              "      <th>var_96</th>\n",
              "      <th>var_97</th>\n",
              "      <th>var_98</th>\n",
              "      <th>var_99</th>\n",
              "      <th>var_100</th>\n",
              "      <th>target</th>\n",
              "    </tr>\n",
              "  </thead>\n",
              "  <tbody>\n",
              "    <tr>\n",
              "      <th>0</th>\n",
              "      <td>-1.075456</td>\n",
              "      <td>-0.195745</td>\n",
              "      <td>0.072928</td>\n",
              "      <td>-0.910273</td>\n",
              "      <td>-1.058332</td>\n",
              "      <td>-0.204135</td>\n",
              "      <td>0.014860</td>\n",
              "      <td>-0.245065</td>\n",
              "      <td>1.803615</td>\n",
              "      <td>-2.399954</td>\n",
              "      <td>...</td>\n",
              "      <td>-0.224292</td>\n",
              "      <td>-0.117769</td>\n",
              "      <td>-0.260683</td>\n",
              "      <td>-0.221259</td>\n",
              "      <td>-0.336948</td>\n",
              "      <td>2.681420</td>\n",
              "      <td>-1.360773</td>\n",
              "      <td>0.313471</td>\n",
              "      <td>-0.991100</td>\n",
              "      <td>1</td>\n",
              "    </tr>\n",
              "    <tr>\n",
              "      <th>1</th>\n",
              "      <td>-2.396112</td>\n",
              "      <td>-0.453724</td>\n",
              "      <td>-0.833710</td>\n",
              "      <td>0.058765</td>\n",
              "      <td>1.155650</td>\n",
              "      <td>0.459741</td>\n",
              "      <td>0.598471</td>\n",
              "      <td>-0.378185</td>\n",
              "      <td>2.473345</td>\n",
              "      <td>-0.643875</td>\n",
              "      <td>...</td>\n",
              "      <td>0.058764</td>\n",
              "      <td>0.343075</td>\n",
              "      <td>0.395617</td>\n",
              "      <td>-0.121909</td>\n",
              "      <td>-0.103370</td>\n",
              "      <td>-2.025381</td>\n",
              "      <td>0.105647</td>\n",
              "      <td>1.029478</td>\n",
              "      <td>0.059214</td>\n",
              "      <td>1</td>\n",
              "    </tr>\n",
              "    <tr>\n",
              "      <th>2</th>\n",
              "      <td>1.845949</td>\n",
              "      <td>-1.460644</td>\n",
              "      <td>0.140147</td>\n",
              "      <td>-1.228809</td>\n",
              "      <td>1.088438</td>\n",
              "      <td>-1.993979</td>\n",
              "      <td>0.143315</td>\n",
              "      <td>-1.696866</td>\n",
              "      <td>0.585152</td>\n",
              "      <td>-1.467743</td>\n",
              "      <td>...</td>\n",
              "      <td>0.552813</td>\n",
              "      <td>1.264767</td>\n",
              "      <td>-0.075427</td>\n",
              "      <td>0.539285</td>\n",
              "      <td>-0.046292</td>\n",
              "      <td>-0.382775</td>\n",
              "      <td>-0.607253</td>\n",
              "      <td>-0.873099</td>\n",
              "      <td>-2.888416</td>\n",
              "      <td>1</td>\n",
              "    </tr>\n",
              "    <tr>\n",
              "      <th>3</th>\n",
              "      <td>2.143414</td>\n",
              "      <td>0.101328</td>\n",
              "      <td>1.057411</td>\n",
              "      <td>-1.257740</td>\n",
              "      <td>-0.208287</td>\n",
              "      <td>0.574069</td>\n",
              "      <td>-0.747514</td>\n",
              "      <td>0.475646</td>\n",
              "      <td>1.351055</td>\n",
              "      <td>-0.481845</td>\n",
              "      <td>...</td>\n",
              "      <td>1.041197</td>\n",
              "      <td>-2.248246</td>\n",
              "      <td>-0.047734</td>\n",
              "      <td>-0.042680</td>\n",
              "      <td>-0.729423</td>\n",
              "      <td>0.085604</td>\n",
              "      <td>1.622527</td>\n",
              "      <td>-0.944575</td>\n",
              "      <td>0.403569</td>\n",
              "      <td>1</td>\n",
              "    </tr>\n",
              "    <tr>\n",
              "      <th>4</th>\n",
              "      <td>-0.649597</td>\n",
              "      <td>1.017041</td>\n",
              "      <td>-0.588267</td>\n",
              "      <td>0.470996</td>\n",
              "      <td>0.185584</td>\n",
              "      <td>-0.197885</td>\n",
              "      <td>0.740186</td>\n",
              "      <td>-0.865915</td>\n",
              "      <td>-1.130410</td>\n",
              "      <td>0.276091</td>\n",
              "      <td>...</td>\n",
              "      <td>1.154294</td>\n",
              "      <td>1.114312</td>\n",
              "      <td>0.884434</td>\n",
              "      <td>0.880845</td>\n",
              "      <td>0.249226</td>\n",
              "      <td>-0.958378</td>\n",
              "      <td>1.926181</td>\n",
              "      <td>-0.429287</td>\n",
              "      <td>0.153101</td>\n",
              "      <td>1</td>\n",
              "    </tr>\n",
              "    <tr>\n",
              "      <th>...</th>\n",
              "      <td>...</td>\n",
              "      <td>...</td>\n",
              "      <td>...</td>\n",
              "      <td>...</td>\n",
              "      <td>...</td>\n",
              "      <td>...</td>\n",
              "      <td>...</td>\n",
              "      <td>...</td>\n",
              "      <td>...</td>\n",
              "      <td>...</td>\n",
              "      <td>...</td>\n",
              "      <td>...</td>\n",
              "      <td>...</td>\n",
              "      <td>...</td>\n",
              "      <td>...</td>\n",
              "      <td>...</td>\n",
              "      <td>...</td>\n",
              "      <td>...</td>\n",
              "      <td>...</td>\n",
              "      <td>...</td>\n",
              "      <td>...</td>\n",
              "    </tr>\n",
              "    <tr>\n",
              "      <th>495</th>\n",
              "      <td>-1.101524</td>\n",
              "      <td>0.649155</td>\n",
              "      <td>1.112075</td>\n",
              "      <td>-0.884845</td>\n",
              "      <td>-0.791289</td>\n",
              "      <td>0.511408</td>\n",
              "      <td>-0.980752</td>\n",
              "      <td>0.587925</td>\n",
              "      <td>1.896893</td>\n",
              "      <td>-0.084442</td>\n",
              "      <td>...</td>\n",
              "      <td>3.063000</td>\n",
              "      <td>-1.886854</td>\n",
              "      <td>1.097440</td>\n",
              "      <td>-0.024955</td>\n",
              "      <td>0.303770</td>\n",
              "      <td>0.591723</td>\n",
              "      <td>1.160397</td>\n",
              "      <td>0.284106</td>\n",
              "      <td>-0.583183</td>\n",
              "      <td>0</td>\n",
              "    </tr>\n",
              "    <tr>\n",
              "      <th>496</th>\n",
              "      <td>-0.733571</td>\n",
              "      <td>-0.704296</td>\n",
              "      <td>-1.197733</td>\n",
              "      <td>0.822181</td>\n",
              "      <td>-0.131053</td>\n",
              "      <td>-0.367624</td>\n",
              "      <td>-0.125316</td>\n",
              "      <td>-0.248815</td>\n",
              "      <td>-0.431828</td>\n",
              "      <td>-1.207942</td>\n",
              "      <td>...</td>\n",
              "      <td>-0.384192</td>\n",
              "      <td>-0.955502</td>\n",
              "      <td>1.485047</td>\n",
              "      <td>2.312382</td>\n",
              "      <td>1.124695</td>\n",
              "      <td>1.040423</td>\n",
              "      <td>1.287920</td>\n",
              "      <td>-0.982925</td>\n",
              "      <td>-1.212301</td>\n",
              "      <td>0</td>\n",
              "    </tr>\n",
              "    <tr>\n",
              "      <th>497</th>\n",
              "      <td>-2.404217</td>\n",
              "      <td>-0.052258</td>\n",
              "      <td>1.072017</td>\n",
              "      <td>-1.049814</td>\n",
              "      <td>-1.276265</td>\n",
              "      <td>-1.430422</td>\n",
              "      <td>1.143976</td>\n",
              "      <td>1.186624</td>\n",
              "      <td>2.066890</td>\n",
              "      <td>1.284893</td>\n",
              "      <td>...</td>\n",
              "      <td>0.531253</td>\n",
              "      <td>-0.638983</td>\n",
              "      <td>0.933560</td>\n",
              "      <td>-0.954446</td>\n",
              "      <td>1.861105</td>\n",
              "      <td>1.512859</td>\n",
              "      <td>1.290044</td>\n",
              "      <td>-0.537628</td>\n",
              "      <td>0.427043</td>\n",
              "      <td>0</td>\n",
              "    </tr>\n",
              "    <tr>\n",
              "      <th>498</th>\n",
              "      <td>2.306662</td>\n",
              "      <td>-0.855991</td>\n",
              "      <td>-0.920294</td>\n",
              "      <td>0.802855</td>\n",
              "      <td>1.224822</td>\n",
              "      <td>0.323100</td>\n",
              "      <td>-1.065003</td>\n",
              "      <td>0.081209</td>\n",
              "      <td>-0.417770</td>\n",
              "      <td>-0.455096</td>\n",
              "      <td>...</td>\n",
              "      <td>-0.985940</td>\n",
              "      <td>0.714621</td>\n",
              "      <td>-0.141677</td>\n",
              "      <td>1.201229</td>\n",
              "      <td>-0.502932</td>\n",
              "      <td>1.774207</td>\n",
              "      <td>-0.260103</td>\n",
              "      <td>-0.899428</td>\n",
              "      <td>-0.517996</td>\n",
              "      <td>0</td>\n",
              "    </tr>\n",
              "    <tr>\n",
              "      <th>499</th>\n",
              "      <td>0.389991</td>\n",
              "      <td>0.429168</td>\n",
              "      <td>1.854429</td>\n",
              "      <td>-0.871039</td>\n",
              "      <td>2.577581</td>\n",
              "      <td>-1.903671</td>\n",
              "      <td>0.092221</td>\n",
              "      <td>0.776232</td>\n",
              "      <td>0.046955</td>\n",
              "      <td>-0.443578</td>\n",
              "      <td>...</td>\n",
              "      <td>-1.822369</td>\n",
              "      <td>0.689464</td>\n",
              "      <td>-0.055111</td>\n",
              "      <td>0.853872</td>\n",
              "      <td>1.513155</td>\n",
              "      <td>-0.203175</td>\n",
              "      <td>0.072275</td>\n",
              "      <td>0.358739</td>\n",
              "      <td>-0.992319</td>\n",
              "      <td>0</td>\n",
              "    </tr>\n",
              "  </tbody>\n",
              "</table>\n",
              "<p>500 rows × 101 columns</p>\n",
              "</div>\n",
              "    <div class=\"colab-df-buttons\">\n",
              "\n",
              "  <div class=\"colab-df-container\">\n",
              "    <button class=\"colab-df-convert\" onclick=\"convertToInteractive('df-71bc3ba8-5888-48a7-ab2c-d9331b59d0f1')\"\n",
              "            title=\"Convert this dataframe to an interactive table.\"\n",
              "            style=\"display:none;\">\n",
              "\n",
              "  <svg xmlns=\"http://www.w3.org/2000/svg\" height=\"24px\" viewBox=\"0 -960 960 960\">\n",
              "    <path d=\"M120-120v-720h720v720H120Zm60-500h600v-160H180v160Zm220 220h160v-160H400v160Zm0 220h160v-160H400v160ZM180-400h160v-160H180v160Zm440 0h160v-160H620v160ZM180-180h160v-160H180v160Zm440 0h160v-160H620v160Z\"/>\n",
              "  </svg>\n",
              "    </button>\n",
              "\n",
              "  <style>\n",
              "    .colab-df-container {\n",
              "      display:flex;\n",
              "      gap: 12px;\n",
              "    }\n",
              "\n",
              "    .colab-df-convert {\n",
              "      background-color: #E8F0FE;\n",
              "      border: none;\n",
              "      border-radius: 50%;\n",
              "      cursor: pointer;\n",
              "      display: none;\n",
              "      fill: #1967D2;\n",
              "      height: 32px;\n",
              "      padding: 0 0 0 0;\n",
              "      width: 32px;\n",
              "    }\n",
              "\n",
              "    .colab-df-convert:hover {\n",
              "      background-color: #E2EBFA;\n",
              "      box-shadow: 0px 1px 2px rgba(60, 64, 67, 0.3), 0px 1px 3px 1px rgba(60, 64, 67, 0.15);\n",
              "      fill: #174EA6;\n",
              "    }\n",
              "\n",
              "    .colab-df-buttons div {\n",
              "      margin-bottom: 4px;\n",
              "    }\n",
              "\n",
              "    [theme=dark] .colab-df-convert {\n",
              "      background-color: #3B4455;\n",
              "      fill: #D2E3FC;\n",
              "    }\n",
              "\n",
              "    [theme=dark] .colab-df-convert:hover {\n",
              "      background-color: #434B5C;\n",
              "      box-shadow: 0px 1px 3px 1px rgba(0, 0, 0, 0.15);\n",
              "      filter: drop-shadow(0px 1px 2px rgba(0, 0, 0, 0.3));\n",
              "      fill: #FFFFFF;\n",
              "    }\n",
              "  </style>\n",
              "\n",
              "    <script>\n",
              "      const buttonEl =\n",
              "        document.querySelector('#df-71bc3ba8-5888-48a7-ab2c-d9331b59d0f1 button.colab-df-convert');\n",
              "      buttonEl.style.display =\n",
              "        google.colab.kernel.accessAllowed ? 'block' : 'none';\n",
              "\n",
              "      async function convertToInteractive(key) {\n",
              "        const element = document.querySelector('#df-71bc3ba8-5888-48a7-ab2c-d9331b59d0f1');\n",
              "        const dataTable =\n",
              "          await google.colab.kernel.invokeFunction('convertToInteractive',\n",
              "                                                    [key], {});\n",
              "        if (!dataTable) return;\n",
              "\n",
              "        const docLinkHtml = 'Like what you see? Visit the ' +\n",
              "          '<a target=\"_blank\" href=https://colab.research.google.com/notebooks/data_table.ipynb>data table notebook</a>'\n",
              "          + ' to learn more about interactive tables.';\n",
              "        element.innerHTML = '';\n",
              "        dataTable['output_type'] = 'display_data';\n",
              "        await google.colab.output.renderOutput(dataTable, element);\n",
              "        const docLink = document.createElement('div');\n",
              "        docLink.innerHTML = docLinkHtml;\n",
              "        element.appendChild(docLink);\n",
              "      }\n",
              "    </script>\n",
              "  </div>\n",
              "\n",
              "\n",
              "<div id=\"df-64d38e71-5a2f-4925-b7a8-766cacfaf156\">\n",
              "  <button class=\"colab-df-quickchart\" onclick=\"quickchart('df-64d38e71-5a2f-4925-b7a8-766cacfaf156')\"\n",
              "            title=\"Suggest charts.\"\n",
              "            style=\"display:none;\">\n",
              "\n",
              "<svg xmlns=\"http://www.w3.org/2000/svg\" height=\"24px\"viewBox=\"0 0 24 24\"\n",
              "     width=\"24px\">\n",
              "    <g>\n",
              "        <path d=\"M19 3H5c-1.1 0-2 .9-2 2v14c0 1.1.9 2 2 2h14c1.1 0 2-.9 2-2V5c0-1.1-.9-2-2-2zM9 17H7v-7h2v7zm4 0h-2V7h2v10zm4 0h-2v-4h2v4z\"/>\n",
              "    </g>\n",
              "</svg>\n",
              "  </button>\n",
              "\n",
              "<style>\n",
              "  .colab-df-quickchart {\n",
              "      --bg-color: #E8F0FE;\n",
              "      --fill-color: #1967D2;\n",
              "      --hover-bg-color: #E2EBFA;\n",
              "      --hover-fill-color: #174EA6;\n",
              "      --disabled-fill-color: #AAA;\n",
              "      --disabled-bg-color: #DDD;\n",
              "  }\n",
              "\n",
              "  [theme=dark] .colab-df-quickchart {\n",
              "      --bg-color: #3B4455;\n",
              "      --fill-color: #D2E3FC;\n",
              "      --hover-bg-color: #434B5C;\n",
              "      --hover-fill-color: #FFFFFF;\n",
              "      --disabled-bg-color: #3B4455;\n",
              "      --disabled-fill-color: #666;\n",
              "  }\n",
              "\n",
              "  .colab-df-quickchart {\n",
              "    background-color: var(--bg-color);\n",
              "    border: none;\n",
              "    border-radius: 50%;\n",
              "    cursor: pointer;\n",
              "    display: none;\n",
              "    fill: var(--fill-color);\n",
              "    height: 32px;\n",
              "    padding: 0;\n",
              "    width: 32px;\n",
              "  }\n",
              "\n",
              "  .colab-df-quickchart:hover {\n",
              "    background-color: var(--hover-bg-color);\n",
              "    box-shadow: 0 1px 2px rgba(60, 64, 67, 0.3), 0 1px 3px 1px rgba(60, 64, 67, 0.15);\n",
              "    fill: var(--button-hover-fill-color);\n",
              "  }\n",
              "\n",
              "  .colab-df-quickchart-complete:disabled,\n",
              "  .colab-df-quickchart-complete:disabled:hover {\n",
              "    background-color: var(--disabled-bg-color);\n",
              "    fill: var(--disabled-fill-color);\n",
              "    box-shadow: none;\n",
              "  }\n",
              "\n",
              "  .colab-df-spinner {\n",
              "    border: 2px solid var(--fill-color);\n",
              "    border-color: transparent;\n",
              "    border-bottom-color: var(--fill-color);\n",
              "    animation:\n",
              "      spin 1s steps(1) infinite;\n",
              "  }\n",
              "\n",
              "  @keyframes spin {\n",
              "    0% {\n",
              "      border-color: transparent;\n",
              "      border-bottom-color: var(--fill-color);\n",
              "      border-left-color: var(--fill-color);\n",
              "    }\n",
              "    20% {\n",
              "      border-color: transparent;\n",
              "      border-left-color: var(--fill-color);\n",
              "      border-top-color: var(--fill-color);\n",
              "    }\n",
              "    30% {\n",
              "      border-color: transparent;\n",
              "      border-left-color: var(--fill-color);\n",
              "      border-top-color: var(--fill-color);\n",
              "      border-right-color: var(--fill-color);\n",
              "    }\n",
              "    40% {\n",
              "      border-color: transparent;\n",
              "      border-right-color: var(--fill-color);\n",
              "      border-top-color: var(--fill-color);\n",
              "    }\n",
              "    60% {\n",
              "      border-color: transparent;\n",
              "      border-right-color: var(--fill-color);\n",
              "    }\n",
              "    80% {\n",
              "      border-color: transparent;\n",
              "      border-right-color: var(--fill-color);\n",
              "      border-bottom-color: var(--fill-color);\n",
              "    }\n",
              "    90% {\n",
              "      border-color: transparent;\n",
              "      border-bottom-color: var(--fill-color);\n",
              "    }\n",
              "  }\n",
              "</style>\n",
              "\n",
              "  <script>\n",
              "    async function quickchart(key) {\n",
              "      const quickchartButtonEl =\n",
              "        document.querySelector('#' + key + ' button');\n",
              "      quickchartButtonEl.disabled = true;  // To prevent multiple clicks.\n",
              "      quickchartButtonEl.classList.add('colab-df-spinner');\n",
              "      try {\n",
              "        const charts = await google.colab.kernel.invokeFunction(\n",
              "            'suggestCharts', [key], {});\n",
              "      } catch (error) {\n",
              "        console.error('Error during call to suggestCharts:', error);\n",
              "      }\n",
              "      quickchartButtonEl.classList.remove('colab-df-spinner');\n",
              "      quickchartButtonEl.classList.add('colab-df-quickchart-complete');\n",
              "    }\n",
              "    (() => {\n",
              "      let quickchartButtonEl =\n",
              "        document.querySelector('#df-64d38e71-5a2f-4925-b7a8-766cacfaf156 button');\n",
              "      quickchartButtonEl.style.display =\n",
              "        google.colab.kernel.accessAllowed ? 'block' : 'none';\n",
              "    })();\n",
              "  </script>\n",
              "</div>\n",
              "    </div>\n",
              "  </div>\n"
            ]
          },
          "metadata": {},
          "execution_count": 10
        }
      ],
      "source": [
        "new"
      ]
    },
    {
      "cell_type": "code",
      "source": [
        "new.count()"
      ],
      "metadata": {
        "colab": {
          "base_uri": "https://localhost:8080/"
        },
        "id": "wT5YAsIngV3M",
        "outputId": "72c35414-c569-4973-fe56-643db35c0cde"
      },
      "id": "wT5YAsIngV3M",
      "execution_count": null,
      "outputs": [
        {
          "output_type": "execute_result",
          "data": {
            "text/plain": [
              "var_1      500\n",
              "var_2      500\n",
              "var_3      500\n",
              "var_4      500\n",
              "var_5      500\n",
              "          ... \n",
              "var_97     500\n",
              "var_98     500\n",
              "var_99     500\n",
              "var_100    500\n",
              "target     500\n",
              "Length: 101, dtype: int64"
            ]
          },
          "metadata": {},
          "execution_count": 11
        }
      ]
    },
    {
      "cell_type": "code",
      "source": [
        "z_scores = np.abs(stats.zscore(new))\n",
        "umbral = 3\n",
        "filas_con_outliers = (z_scores > umbral).any(axis=1)\n",
        "casos_con_outliers = new[filas_con_outliers]\n",
        "\n",
        "new_sin_outliers = new[~filas_con_outliers]\n",
        "\n",
        "new2=new_sin_outliers\n",
        "\n",
        "\n",
        "\n"
      ],
      "metadata": {
        "id": "OajcLcx-grsM"
      },
      "id": "OajcLcx-grsM",
      "execution_count": null,
      "outputs": []
    },
    {
      "cell_type": "markdown",
      "id": "88754e9d",
      "metadata": {
        "id": "88754e9d"
      },
      "source": [
        "## C.- queremos determinar las variables relevantes para nuestro target,lo que haremos como resultado de un ajuste de un modelo de tipo xgboost de rendimiento contrastado en casos de clasificacion binaria como el que nos ocupa."
      ]
    },
    {
      "cell_type": "code",
      "execution_count": null,
      "id": "f25e2e93",
      "metadata": {
        "id": "f25e2e93"
      },
      "outputs": [],
      "source": [
        "Y=new2['target']\n",
        "X=new2.drop('target',axis=1)"
      ]
    },
    {
      "cell_type": "code",
      "execution_count": null,
      "id": "734e8332",
      "metadata": {
        "id": "734e8332"
      },
      "outputs": [],
      "source": [
        "Xtrain, XTest, Ytrain, YTest = train_test_split(X, Y, test_size=0.30,random_state=10)"
      ]
    },
    {
      "cell_type": "code",
      "execution_count": null,
      "id": "ea3d05df",
      "metadata": {
        "id": "ea3d05df"
      },
      "outputs": [],
      "source": [
        "clf1=xgb.XGBClassifier(eta=0.5,gamma=10,min_child_weight=5.0,subsample=0.6,random=10,label_encoder=False)\n"
      ]
    },
    {
      "cell_type": "code",
      "execution_count": null,
      "id": "617c4df0",
      "metadata": {
        "colab": {
          "base_uri": "https://localhost:8080/"
        },
        "id": "617c4df0",
        "outputId": "bd56a5c5-6604-4fe9-b4c2-d525c145814b"
      },
      "outputs": [
        {
          "output_type": "stream",
          "name": "stdout",
          "text": [
            "[17:30:40] WARNING: ../src/learner.cc:767: \n",
            "Parameters: { \"label_encoder\", \"random\" } are not used.\n",
            "\n"
          ]
        }
      ],
      "source": [
        "clf1.fit(Xtrain, Ytrain)\n",
        "pred=clf1.predict(XTest)"
      ]
    },
    {
      "cell_type": "code",
      "execution_count": null,
      "id": "a19c2daf",
      "metadata": {
        "colab": {
          "base_uri": "https://localhost:8080/",
          "height": 487
        },
        "id": "a19c2daf",
        "outputId": "23800b16-9538-417c-ba28-1c044d71933e"
      },
      "outputs": [
        {
          "output_type": "execute_result",
          "data": {
            "text/plain": [
              "<Axes: xlabel='False', ylabel='True'>"
            ]
          },
          "metadata": {},
          "execution_count": 45
        },
        {
          "output_type": "display_data",
          "data": {
            "text/plain": [
              "<Figure size 500x500 with 2 Axes>"
            ],
            "image/png": "[encoded data removed]"
          },
          "metadata": {}
        }
      ],
      "source": [
        "cm = pd.crosstab(YTest,pred, rownames=['True'], colnames=['False'])\n",
        "plt.figure(figsize=(5,5))\n",
        "sns.heatmap(cm,annot=True)"
      ]
    },
    {
      "cell_type": "code",
      "execution_count": null,
      "id": "86e77d62",
      "metadata": {
        "colab": {
          "base_uri": "https://localhost:8080/"
        },
        "id": "86e77d62",
        "outputId": "3b98c33a-f865-4916-ee9f-89cb4228c329"
      },
      "outputs": [
        {
          "output_type": "stream",
          "name": "stdout",
          "text": [
            "              precision    recall  f1-score   support\n",
            "\n",
            "           0       0.60      0.54      0.57        59\n",
            "           1       0.57      0.63      0.60        57\n",
            "\n",
            "    accuracy                           0.59       116\n",
            "   macro avg       0.59      0.59      0.59       116\n",
            "weighted avg       0.59      0.59      0.59       116\n",
            "\n"
          ]
        }
      ],
      "source": [
        "print(classification_report(YTest, pred))\n"
      ]
    },
    {
      "cell_type": "code",
      "execution_count": null,
      "id": "f18c44f4",
      "metadata": {
        "colab": {
          "base_uri": "https://localhost:8080/",
          "height": 507
        },
        "id": "f18c44f4",
        "outputId": "f78188d0-9d54-4dc9-da8b-31bf42d176fb"
      },
      "outputs": [
        {
          "output_type": "execute_result",
          "data": {
            "text/plain": [
              "<Figure size 10000x5000 with 0 Axes>"
            ]
          },
          "metadata": {},
          "execution_count": 47
        },
        {
          "output_type": "display_data",
          "data": {
            "text/plain": [
              "<Figure size 640x480 with 1 Axes>"
            ],
            "image/png": "[encoded data removed]"
          },
          "metadata": {}
        },
        {
          "output_type": "display_data",
          "data": {
            "text/plain": [
              "<Figure size 10000x5000 with 0 Axes>"
            ]
          },
          "metadata": {}
        }
      ],
      "source": [
        "plot_importance(clf1)\n",
        "plt.figure(figsize=(100,50))\n"
      ]
    },
    {
      "cell_type": "markdown",
      "id": "3d92df31",
      "metadata": {
        "id": "3d92df31"
      },
      "source": [
        "# Evaluamos utilizando solo las variables qure se han mostrado relevantes para nuesto modelo\n"
      ]
    },
    {
      "cell_type": "code",
      "execution_count": null,
      "id": "0b90f42a",
      "metadata": {
        "colab": {
          "base_uri": "https://localhost:8080/"
        },
        "id": "0b90f42a",
        "outputId": "fbc8b387-5e94-4637-9596-321564344ee4"
      },
      "outputs": [
        {
          "output_type": "stream",
          "name": "stdout",
          "text": [
            "       var_72    var_30   var_100    var_93    var_96    var_82    var_75  \\\n",
            "0   -1.547933  2.180610 -0.991100 -0.117769 -0.336948 -1.260558  0.727099   \n",
            "1   -0.148040  1.698391  0.059214  0.343075 -0.103370  0.572035  1.240636   \n",
            "2    1.516317  2.086450 -2.888416  1.264767 -0.046292  0.221256  0.230758   \n",
            "3    2.116917  1.826154  0.403569 -2.248246 -0.729423  0.092953  1.270732   \n",
            "4    0.380037  2.253610  0.153101  1.114312  0.249226 -1.612397  0.213476   \n",
            "..        ...       ...       ...       ...       ...       ...       ...   \n",
            "495  0.808156  3.480979 -0.583183 -1.886854  0.303770 -0.414161 -1.231044   \n",
            "496  0.692378  2.917139 -1.212301 -0.955502  1.124695 -0.914412 -1.645825   \n",
            "497  0.010719  2.106763  0.427043 -0.638983  1.861105 -0.471930 -0.040306   \n",
            "498  0.209883  1.175820 -0.517996  0.714621 -0.502932 -0.167050  0.796403   \n",
            "499 -1.190860  2.272257 -0.992319  0.689464  1.513155  0.869311 -0.636842   \n",
            "\n",
            "       var_69    var_46    var_45    var_42    var_37    var_24    var_20  \\\n",
            "0    0.546512  0.295890 -1.274138  0.182721  0.538965  0.233807  0.914235   \n",
            "1    3.475564 -1.592139 -2.708918 -1.345420  2.346101  1.004942  1.015458   \n",
            "2    2.127102 -0.766013  0.221891 -0.819089 -0.978946  0.928747  0.813326   \n",
            "3    2.118826 -0.620859  0.142746 -0.860269 -1.242699  0.361992  0.386754   \n",
            "4    2.419151  0.275671  0.881388 -0.013085 -0.247944  0.359455 -0.730191   \n",
            "..        ...       ...       ...       ...       ...       ...       ...   \n",
            "495 -1.283388 -1.093798 -0.170438 -1.988556  0.729013 -0.124989 -0.939541   \n",
            "496 -2.511483 -1.497585  0.725930  0.993156 -0.425801 -0.085060  0.596121   \n",
            "497 -3.468874  0.468076  0.941805 -0.097104 -1.074086 -1.257448  1.029789   \n",
            "498 -1.998564  1.576451  0.359782 -1.318803 -0.747754 -0.225510  0.012171   \n",
            "499 -1.184809  0.321912 -0.196256 -0.598449 -2.226791 -0.149586 -1.356974   \n",
            "\n",
            "       var_17    var_13    var_10     var_7  target  \n",
            "0   -0.568648  0.410302 -2.399954  0.014860       1  \n",
            "1   -1.034323 -0.010830 -0.643875  0.598471       1  \n",
            "2   -1.209377  0.961454 -1.467743  0.143315       1  \n",
            "3   -0.677952  0.431232 -0.481845 -0.747514       1  \n",
            "4   -0.172218 -1.693867  0.276091  0.740186       1  \n",
            "..        ...       ...       ...       ...     ...  \n",
            "495  0.054131 -1.054892 -0.084442 -0.980752       0  \n",
            "496  1.527523  0.465408 -1.207942 -0.125316       0  \n",
            "497  0.328306 -0.193418  1.284893  1.143976       0  \n",
            "498  0.988440  0.965364 -0.455096 -1.065003       0  \n",
            "499 -0.289999  0.867612 -0.443578  0.092221       0  \n",
            "\n",
            "[385 rows x 19 columns]\n"
          ]
        }
      ],
      "source": [
        "new_3 = new2.filter(['var_72','var_30','var_100','var_93','var_96','var_82','var_75','var_69','var58','var_46','var_45','var_42','var_37','var_24','var_20','var_17','var_13','var_10','var_7','target'])\n",
        "print(new_3)"
      ]
    },
    {
      "cell_type": "code",
      "execution_count": null,
      "id": "c1cd0289",
      "metadata": {
        "id": "c1cd0289"
      },
      "outputs": [],
      "source": [
        "Y2=new_3['target']\n",
        "X2=new_3.drop('target',axis=1)\n"
      ]
    },
    {
      "cell_type": "code",
      "execution_count": null,
      "id": "52bf9c0b",
      "metadata": {
        "id": "52bf9c0b"
      },
      "outputs": [],
      "source": [
        "X2train, X2Test, Y2train, Y2Test = train_test_split(X2, Y2, test_size=0.30,random_state=100)"
      ]
    },
    {
      "cell_type": "code",
      "execution_count": null,
      "id": "9c7ac5b9",
      "metadata": {
        "id": "9c7ac5b9"
      },
      "outputs": [],
      "source": [
        " clf_2=xgb.XGBClassifier(eta=0.5,gamma=10,min_child_weight=5.0,subsample=0.6,random=10,label_encoder=False) #utilizamos el mimsmo modelo e identica parametrizacion"
      ]
    },
    {
      "cell_type": "code",
      "execution_count": null,
      "id": "bf0bd2eb",
      "metadata": {
        "colab": {
          "base_uri": "https://localhost:8080/"
        },
        "id": "bf0bd2eb",
        "outputId": "f3b0c9e1-ea09-4ad4-ef29-a2cf2b61fc75"
      },
      "outputs": [
        {
          "output_type": "stream",
          "name": "stdout",
          "text": [
            "[17:32:30] WARNING: ../src/learner.cc:767: \n",
            "Parameters: { \"label_encoder\", \"random\" } are not used.\n",
            "\n"
          ]
        }
      ],
      "source": [
        "clf_2.fit(X2train, Y2train)\n",
        "pred2=clf_2.predict(X2Test)"
      ]
    },
    {
      "cell_type": "code",
      "execution_count": null,
      "id": "364e20be",
      "metadata": {
        "colab": {
          "base_uri": "https://localhost:8080/",
          "height": 482
        },
        "id": "364e20be",
        "outputId": "04ae3c7e-e31e-4fc9-f68e-bcea401f973b"
      },
      "outputs": [
        {
          "output_type": "execute_result",
          "data": {
            "text/plain": [
              "<Axes: xlabel='False', ylabel='True'>"
            ]
          },
          "metadata": {},
          "execution_count": 56
        },
        {
          "output_type": "display_data",
          "data": {
            "text/plain": [
              "<Figure size 500x500 with 2 Axes>"
            ],
            "image/png": "[encoded data removed]"
          },
          "metadata": {}
        }
      ],
      "source": [
        "cm2 = pd.crosstab(Y2Test,pred2, rownames=['True'], colnames=['False'])\n",
        "plt.figure(figsize=(5,5))\n",
        "sns.heatmap(cm2,annot=True)"
      ]
    },
    {
      "cell_type": "code",
      "execution_count": null,
      "id": "0c0da3b6",
      "metadata": {
        "colab": {
          "base_uri": "https://localhost:8080/"
        },
        "id": "0c0da3b6",
        "outputId": "4373361e-5512-4177-8b54-faca1e40acb9"
      },
      "outputs": [
        {
          "output_type": "stream",
          "name": "stdout",
          "text": [
            "              precision    recall  f1-score   support\n",
            "\n",
            "           0       0.86      0.95      0.90        60\n",
            "           1       0.94      0.84      0.89        56\n",
            "\n",
            "    accuracy                           0.90       116\n",
            "   macro avg       0.90      0.89      0.90       116\n",
            "weighted avg       0.90      0.90      0.90       116\n",
            "\n"
          ]
        }
      ],
      "source": [
        "print(classification_report(Y2Test, pred2))\n"
      ]
    },
    {
      "cell_type": "markdown",
      "id": "d7bf9af6",
      "metadata": {
        "id": "d7bf9af6"
      },
      "source": [
        "### el resultado es sensiblemente mejor ."
      ]
    },
    {
      "cell_type": "markdown",
      "id": "0f104ff9",
      "metadata": {
        "id": "0f104ff9"
      },
      "source": [
        "## E.- introducimos un modelo de tipo random forest para comparar con nuestro xgboost , a modo de bechmarking"
      ]
    },
    {
      "cell_type": "code",
      "execution_count": null,
      "id": "87da960c",
      "metadata": {
        "colab": {
          "base_uri": "https://localhost:8080/",
          "height": 75
        },
        "id": "87da960c",
        "outputId": "80fa03df-1031-4700-a61c-963fe50d8444"
      },
      "outputs": [
        {
          "output_type": "execute_result",
          "data": {
            "text/plain": [
              "RandomForestClassifier(max_features=None, min_samples_split=3, n_jobs=1)"
            ],
            "text/html": [
              "<style>#sk-container-id-1 {color: black;background-color: white;}#sk-container-id-1 pre{padding: 0;}#sk-container-id-1 div.sk-toggleable {background-color: white;}#sk-container-id-1 label.sk-toggleable__label {cursor: pointer;display: block;width: 100%;margin-bottom: 0;padding: 0.3em;box-sizing: border-box;text-align: center;}#sk-container-id-1 label.sk-toggleable__label-arrow:before {content: \"▸\";float: left;margin-right: 0.25em;color: #696969;}#sk-container-id-1 label.sk-toggleable__label-arrow:hover:before {color: black;}#sk-container-id-1 div.sk-estimator:hover label.sk-toggleable__label-arrow:before {color: black;}#sk-container-id-1 div.sk-toggleable__content {max-height: 0;max-width: 0;overflow: hidden;text-align: left;background-color: #f0f8ff;}#sk-container-id-1 div.sk-toggleable__content pre {margin: 0.2em;color: black;border-radius: 0.25em;background-color: #f0f8ff;}#sk-container-id-1 input.sk-toggleable__control:checked~div.sk-toggleable__content {max-height: 200px;max-width: 100%;overflow: auto;}#sk-container-id-1 input.sk-toggleable__control:checked~label.sk-toggleable__label-arrow:before {content: \"▾\";}#sk-container-id-1 div.sk-estimator input.sk-toggleable__control:checked~label.sk-toggleable__label {background-color: #d4ebff;}#sk-container-id-1 div.sk-label input.sk-toggleable__control:checked~label.sk-toggleable__label {background-color: #d4ebff;}#sk-container-id-1 input.sk-hidden--visually {border: 0;clip: rect(1px 1px 1px 1px);clip: rect(1px, 1px, 1px, 1px);height: 1px;margin: -1px;overflow: hidden;padding: 0;position: absolute;width: 1px;}#sk-container-id-1 div.sk-estimator {font-family: monospace;background-color: #f0f8ff;border: 1px dotted black;border-radius: 0.25em;box-sizing: border-box;margin-bottom: 0.5em;}#sk-container-id-1 div.sk-estimator:hover {background-color: #d4ebff;}#sk-container-id-1 div.sk-parallel-item::after {content: \"\";width: 100%;border-bottom: 1px solid gray;flex-grow: 1;}#sk-container-id-1 div.sk-label:hover label.sk-toggleable__label {background-color: #d4ebff;}#sk-container-id-1 div.sk-serial::before {content: \"\";position: absolute;border-left: 1px solid gray;box-sizing: border-box;top: 0;bottom: 0;left: 50%;z-index: 0;}#sk-container-id-1 div.sk-serial {display: flex;flex-direction: column;align-items: center;background-color: white;padding-right: 0.2em;padding-left: 0.2em;position: relative;}#sk-container-id-1 div.sk-item {position: relative;z-index: 1;}#sk-container-id-1 div.sk-parallel {display: flex;align-items: stretch;justify-content: center;background-color: white;position: relative;}#sk-container-id-1 div.sk-item::before, #sk-container-id-1 div.sk-parallel-item::before {content: \"\";position: absolute;border-left: 1px solid gray;box-sizing: border-box;top: 0;bottom: 0;left: 50%;z-index: -1;}#sk-container-id-1 div.sk-parallel-item {display: flex;flex-direction: column;z-index: 1;position: relative;background-color: white;}#sk-container-id-1 div.sk-parallel-item:first-child::after {align-self: flex-end;width: 50%;}#sk-container-id-1 div.sk-parallel-item:last-child::after {align-self: flex-start;width: 50%;}#sk-container-id-1 div.sk-parallel-item:only-child::after {width: 0;}#sk-container-id-1 div.sk-dashed-wrapped {border: 1px dashed gray;margin: 0 0.4em 0.5em 0.4em;box-sizing: border-box;padding-bottom: 0.4em;background-color: white;}#sk-container-id-1 div.sk-label label {font-family: monospace;font-weight: bold;display: inline-block;line-height: 1.2em;}#sk-container-id-1 div.sk-label-container {text-align: center;}#sk-container-id-1 div.sk-container {/* jupyter's `normalize.less` sets `[hidden] { display: none; }` but bootstrap.min.css set `[hidden] { display: none !important; }` so we also need the `!important` here to be able to override the default hidden behavior on the sphinx rendered scikit-learn.org. See: https://github.com/scikit-learn/scikit-learn/issues/21755 */display: inline-block !important;position: relative;}#sk-container-id-1 div.sk-text-repr-fallback {display: none;}</style><div id=\"sk-container-id-1\" class=\"sk-top-container\"><div class=\"sk-text-repr-fallback\"><pre>RandomForestClassifier(max_features=None, min_samples_split=3, n_jobs=1)</pre><b>In a Jupyter environment, please rerun this cell to show the HTML representation or trust the notebook. <br />On GitHub, the HTML representation is unable to render, please try loading this page with nbviewer.org.</b></div><div class=\"sk-container\" hidden><div class=\"sk-item\"><div class=\"sk-estimator sk-toggleable\"><input class=\"sk-toggleable__control sk-hidden--visually\" id=\"sk-estimator-id-1\" type=\"checkbox\" checked><label for=\"sk-estimator-id-1\" class=\"sk-toggleable__label sk-toggleable__label-arrow\">RandomForestClassifier</label><div class=\"sk-toggleable__content\"><pre>RandomForestClassifier(max_features=None, min_samples_split=3, n_jobs=1)</pre></div></div></div></div></div>"
            ]
          },
          "metadata": {},
          "execution_count": 58
        }
      ],
      "source": [
        "rf = RandomForestClassifier(bootstrap=True, class_weight=None, criterion='gini',\n",
        " max_depth=None, max_features=None, max_leaf_nodes=None, min_samples_leaf=1,\n",
        " min_samples_split=3, min_weight_fraction_leaf=0.0,\n",
        " n_estimators=100, n_jobs=1, oob_score=False, random_state=None,\n",
        " verbose=0, warm_start=False)\n",
        "\n",
        "rf.fit(X2train,Y2train)"
      ]
    },
    {
      "cell_type": "code",
      "execution_count": null,
      "id": "bc800478",
      "metadata": {
        "id": "bc800478"
      },
      "outputs": [],
      "source": [
        "predictions = rf.predict(X2Test)"
      ]
    },
    {
      "cell_type": "code",
      "execution_count": null,
      "id": "2854aa1b",
      "metadata": {
        "colab": {
          "base_uri": "https://localhost:8080/",
          "height": 482
        },
        "id": "2854aa1b",
        "outputId": "21f8c886-4f39-4ff3-9aba-695112bfece8"
      },
      "outputs": [
        {
          "output_type": "execute_result",
          "data": {
            "text/plain": [
              "<Axes: xlabel='False', ylabel='True'>"
            ]
          },
          "metadata": {},
          "execution_count": 60
        },
        {
          "output_type": "display_data",
          "data": {
            "text/plain": [
              "<Figure size 500x500 with 2 Axes>"
            ],
            "image/png": "[encoded data removed]"
          },
          "metadata": {}
        }
      ],
      "source": [
        "cm3 = pd.crosstab(Y2Test,predictions, rownames=['True'], colnames=['False'])\n",
        "plt.figure(figsize=(5,5))\n",
        "sns.heatmap(cm3,annot=True)"
      ]
    },
    {
      "cell_type": "code",
      "execution_count": null,
      "id": "1121b346",
      "metadata": {
        "colab": {
          "base_uri": "https://localhost:8080/"
        },
        "id": "1121b346",
        "outputId": "676d75ce-ce7b-427e-f96b-ded8626dd959"
      },
      "outputs": [
        {
          "output_type": "stream",
          "name": "stdout",
          "text": [
            "              precision    recall  f1-score   support\n",
            "\n",
            "           0       0.73      0.88      0.80        60\n",
            "           1       0.84      0.64      0.73        56\n",
            "\n",
            "    accuracy                           0.77       116\n",
            "   macro avg       0.78      0.76      0.76       116\n",
            "weighted avg       0.78      0.77      0.76       116\n",
            "\n"
          ]
        }
      ],
      "source": [
        "print(classification_report(Y2Test, predictions))"
      ]
    },
    {
      "cell_type": "markdown",
      "id": "649492c9",
      "metadata": {
        "id": "649492c9"
      },
      "source": [
        "## en un primer vistazo vemos que hay evidencias a favor de nuestro primer modelo."
      ]
    },
    {
      "cell_type": "markdown",
      "id": "15522bea",
      "metadata": {
        "id": "15522bea"
      },
      "source": [
        "## F.- iniciamos sobre las versiones parametrizadas de ambos modelos para nuestro set de datos ,un PROCESO DE VALIDACION CRUZADA, para poder emitir un juicio más fundamentado acerca del desempeño de ambos."
      ]
    },
    {
      "cell_type": "code",
      "execution_count": null,
      "id": "e468a2b7",
      "metadata": {
        "id": "e468a2b7"
      },
      "outputs": [],
      "source": [
        " cv = KFold(n_splits=50, random_state=1, shuffle=True)\n"
      ]
    },
    {
      "cell_type": "code",
      "execution_count": null,
      "id": "87d5cd13",
      "metadata": {
        "id": "87d5cd13"
      },
      "outputs": [],
      "source": [
        "scores = cross_val_score(clf_2, X2, Y2, scoring='accuracy',\n",
        "                         cv=cv, n_jobs=-1)"
      ]
    },
    {
      "cell_type": "markdown",
      "id": "f6627fbe",
      "metadata": {
        "id": "f6627fbe"
      },
      "source": [
        "### promedios de ajuste del modelo xgboost"
      ]
    },
    {
      "cell_type": "code",
      "execution_count": null,
      "id": "2f1dd528",
      "metadata": {
        "colab": {
          "base_uri": "https://localhost:8080/"
        },
        "id": "2f1dd528",
        "outputId": "9e60ebc8-db81-44b4-ad2b-3455eaffe40d"
      },
      "outputs": [
        {
          "output_type": "execute_result",
          "data": {
            "text/plain": [
              "0.9460714285714286"
            ]
          },
          "metadata": {},
          "execution_count": 64
        }
      ],
      "source": [
        "mean(scores)\n"
      ]
    },
    {
      "cell_type": "code",
      "execution_count": null,
      "id": "4858de91",
      "metadata": {
        "id": "4858de91"
      },
      "outputs": [],
      "source": [
        "scores = cross_val_score(rf, X2, Y2, scoring='recall',\n",
        "                         cv=cv, n_jobs=-1)\n"
      ]
    },
    {
      "cell_type": "markdown",
      "id": "29ff74ff",
      "metadata": {
        "id": "29ff74ff"
      },
      "source": [
        "### promedios de ajuste del modelo random forest"
      ]
    },
    {
      "cell_type": "code",
      "execution_count": null,
      "id": "0d097129",
      "metadata": {
        "colab": {
          "base_uri": "https://localhost:8080/"
        },
        "id": "0d097129",
        "outputId": "bddefeda-b8d3-448d-b56f-d2ac1ded051d"
      },
      "outputs": [
        {
          "output_type": "execute_result",
          "data": {
            "text/plain": [
              "0.7873333333333333"
            ]
          },
          "metadata": {},
          "execution_count": 66
        }
      ],
      "source": [
        "mean(scores)"
      ]
    },
    {
      "cell_type": "markdown",
      "id": "d5fba66a",
      "metadata": {
        "id": "d5fba66a"
      },
      "source": [
        "## ciertamente ambos cumplen un papel más que aceptable ; pero hay evidencias en favor de nuestra eleccion : el xgboost."
      ]
    },
    {
      "cell_type": "markdown",
      "id": "72dc8667",
      "metadata": {
        "id": "72dc8667"
      },
      "source": [
        "## Por otro lado y aunque ya sabemos de antemano el comportamiento queremos certificar que nuestro clasificador no sobreajusta  viendo los kpi's sobre el conjunto de entrenamiento"
      ]
    },
    {
      "cell_type": "code",
      "execution_count": null,
      "id": "de0b55cf",
      "metadata": {
        "id": "de0b55cf",
        "outputId": "a2c754c1-c96c-449a-b479-8f205136ec38"
      },
      "outputs": [
        {
          "name": "stdout",
          "output_type": "stream",
          "text": [
            "              precision    recall  f1-score   support\n",
            "\n",
            "           0       0.97      0.99      0.98       176\n",
            "           1       0.99      0.97      0.98       174\n",
            "\n",
            "    accuracy                           0.98       350\n",
            "   macro avg       0.98      0.98      0.98       350\n",
            "weighted avg       0.98      0.98      0.98       350\n",
            "\n"
          ]
        }
      ],
      "source": [
        "print(classification_report(Y2train, pred2b))"
      ]
    },
    {
      "cell_type": "markdown",
      "id": "958b1e19",
      "metadata": {
        "id": "958b1e19"
      },
      "source": [
        "# # modulo de calculo de valores nuevos"
      ]
    },
    {
      "cell_type": "code",
      "execution_count": null,
      "id": "552ec7a5",
      "metadata": {
        "id": "552ec7a5"
      },
      "outputs": [],
      "source": [
        "##################################### creamos un vector para introducir los nuevos valores a predecir\n",
        "inferences = pd.DataFrame()\n",
        "\n",
        "inferences['var_72'] = None\n",
        "inferences['var_30'] = None\n",
        "inferences['var_100'] = None\n",
        "inferences['var_93'] = None\n",
        "inferences['var_96'] = None\n",
        "inferences['var_82'] = None\n",
        "inferences['var_75'] = None\n",
        "inferences['var_69'] = None\n",
        "inferences['var_46'] = None\n",
        "inferences['var_45'] = None\n",
        "inferences['var_42'] = None\n",
        "inferences['var_37'] = None\n",
        "inferences['var_24'] = None\n",
        "inferences['var_20'] = None\n",
        "inferences['var_17'] = None\n",
        "inferences['var_13'] = None\n",
        "inferences['var_10'] = None\n",
        "inferences['var_7'] = None\n",
        "\n",
        "\n",
        "########################################### apartado de introdución de nuevos valores\n",
        "\n",
        "inferences['var_72'] = 0,1\n",
        "inferences['var_30'] = 0,17\n",
        "inferences['var_100'] = 0,15\n",
        "inferences['var_93'] = 0,11\n",
        "inferences['var_96'] = 0,25\n",
        "inferences['var_82'] = -0,16\n",
        "inferences['var_75'] = -0,24\n",
        "inferences['var_69'] = 0,6\n",
        "inferences['var_46'] = 0,6\n",
        "inferences['var_45'] = 0,8\n",
        "inferences['var_42'] = -0,4\n",
        "inferences['var_37'] = -0,9\n",
        "inferences['var_24'] = 0,6\n",
        "inferences['var_20'] = -0,14\n",
        "inferences['var_17'] = 0,25\n",
        "inferences['var_13'] = -0,55\n",
        "inferences['var_10'] = -0,148\n",
        "inferences['var_7'] = -0,96\n",
        "\n",
        "\n"
      ]
    },
    {
      "cell_type": "code",
      "execution_count": null,
      "id": "18df4c7d",
      "metadata": {
        "id": "18df4c7d"
      },
      "outputs": [],
      "source": [
        "predictions = clf_2.predict(inferences)\n",
        "probabilities = clf_2.predict_proba(inferences)"
      ]
    },
    {
      "cell_type": "code",
      "execution_count": null,
      "id": "d9df0629",
      "metadata": {
        "colab": {
          "base_uri": "https://localhost:8080/"
        },
        "id": "d9df0629",
        "outputId": "4477dfde-bf14-4f37-845a-5638e072ac8d"
      },
      "outputs": [
        {
          "output_type": "stream",
          "name": "stdout",
          "text": [
            "[0 1]\n",
            "[[0.925256   0.07474396]\n",
            " [0.30442798 0.695572  ]]\n"
          ]
        }
      ],
      "source": [
        "print(predictions)\n",
        "print (probabilities) ################################  clasificacion del nuevo valor introducido\n"
      ]
    }
  ],
  "metadata": {
    "kernelspec": {
      "display_name": "Python 3 (ipykernel)",
      "language": "python",
      "name": "python3"
    },
    "language_info": {
      "codemirror_mode": {
        "name": "ipython",
        "version": 3
      },
      "file_extension": ".py",
      "mimetype": "text/x-python",
      "name": "python",
      "nbconvert_exporter": "python",
      "pygments_lexer": "ipython3",
      "version": "3.9.7"
    },
    "colab": {
      "provenance": [],
      "include_colab_link": true
    }
  },
  "nbformat": 4,
  "nbformat_minor": 5
}